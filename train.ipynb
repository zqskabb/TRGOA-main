{
 "cells": [
  {
   "cell_type": "code",
   "execution_count": null,
   "metadata": {},
   "outputs": [],
   "source": [
    "from torch_geometric.data import DataLoader\n",
    "import torch.nn.functional as F\n",
    "import torch, data_loader\n",
    "from model import protein_feature_extractor, predictor, go_feature_extractor, att\n",
    "from torch.autograd import Variable\n",
    "from sklearn import metrics\n",
    "import argparse, utils, os, evaluation_matrix, pickle, warnings, metric\n",
    "import numpy as np\n",
    "device = torch.device(\"cuda:1\" if torch.cuda.is_available() else \"cpu\")\n",
    "print(device)\n",
    "DATA_PATH = '/home/nas2/biod/zq/ZQ/Protein Function Prediction/graph_go/dataset/'\n",
    "MODEL_PATH = \"/home/nas2/biod/zq/ZQ/Protein Function Prediction/BIBM_journal/model_checkpoint/A_model_copy5/\"\n",
    "from tqdm import tqdm"
   ]
  },
  {
   "cell_type": "code",
   "execution_count": 2,
   "metadata": {},
   "outputs": [],
   "source": [
    "batch_size = 64\n",
    "epoches = 50\n",
    "learning_rate = 0.0001"
   ]
  },
  {
   "cell_type": "code",
   "execution_count": 3,
   "metadata": {},
   "outputs": [
    {
     "name": "stderr",
     "output_type": "stream",
     "text": [
      "/home/zhangqiang/anaconda3/lib/python3.10/site-packages/torch_geometric/deprecation.py:22: UserWarning: 'data.DataLoader' is deprecated, use 'loader.DataLoader' instead\n",
      "  warnings.warn(out)\n"
     ]
    }
   ],
   "source": [
    "X_train = data_loader.Protein_Gnn_data(root = DATA_PATH + 'data/seq_features/', chain_list = DATA_PATH + \"data/data_splits/train.pdb.txt\")\n",
    "X_test = data_loader.Protein_Gnn_data(root = DATA_PATH + 'data/seq_features/', chain_list = DATA_PATH + \"data/data_splits/test.pdb.txt\")\n",
    "X_valid = data_loader.Protein_Gnn_data(root = DATA_PATH + 'data/seq_features/', chain_list = DATA_PATH + \"data/data_splits/valid.pdb.txt\")\n",
    "train_loader = DataLoader(X_train, batch_size=batch_size, shuffle=True)\n",
    "test_loader = DataLoader(X_test, batch_size=batch_size, shuffle=True)\n",
    "valid_loader = DataLoader(X_valid, batch_size=batch_size, shuffle=True)\n",
    "go_graph = utils.pickle_load(DATA_PATH+\"PDB-cdhit/go_graph.pickle\").to(device)"
   ]
  },
  {
   "cell_type": "code",
   "execution_count": 4,
   "metadata": {},
   "outputs": [],
   "source": [
    "ont = [\"all\",\"bp\",\"mf\", \"cc\"]\n",
    "Protein_feature_extraction = protein_feature_extractor.Protein_feature_extraction()\n",
    "Label_feature_extraction = go_feature_extractor.Label_feature_extraction(ont[0])\n",
    "Protein_Label_att = att.Protein_Label_att()\n",
    "GnnPF_Model = predictor.information_exchange_2()\n",
    "model = predictor.TotalModel(Protein_feature_extraction, Label_feature_extraction, Protein_Label_att, GnnPF_Model)\n",
    "model = model.to(device)"
   ]
  },
  {
   "cell_type": "code",
   "execution_count": 5,
   "metadata": {},
   "outputs": [],
   "source": [
    "optim = torch.optim.Adam(params = model.parameters(),lr = learning_rate, weight_decay=0.0001)\n",
    "loss_function = torch.nn.BCELoss()"
   ]
  },
  {
   "cell_type": "code",
   "execution_count": 6,
   "metadata": {},
   "outputs": [],
   "source": [
    "current_epoch = 1\n",
    "min_val_loss = np.Inf\n",
    "seq = [15,25,25,45,55,95]"
   ]
  },
  {
   "cell_type": "code",
   "execution_count": null,
   "metadata": {},
   "outputs": [],
   "source": [
    "model_dir = MODEL_PATH + '{}/'.format(seq[5])+\"model_checkpoint/\"\n",
    "\n",
    "ckp_current = model_dir + \"current_checkpoint.pt\"\n",
    "ckp_best = model_dir + \"best_model.pt\"\n",
    "\n",
    "if os.path.exists(ckp_current):\n",
    "    print(\"Loading model checkpoint @ {}\".format(ckp_current))\n",
    "    model, optim, current_epoch, min_val_loss = utils.load_ckp(ckp_current, model, optim, device = device)\n",
    "else:\n",
    "    if not os.path.exists(model_dir):\n",
    "        os.makedirs(model_dir)\n",
    "print(\"Training model on epoch {}\".format(current_epoch))"
   ]
  },
  {
   "cell_type": "code",
   "execution_count": 8,
   "metadata": {},
   "outputs": [],
   "source": [
    "def train(train_loader, model, loss_function): \n",
    "    train_loss = []\n",
    "    save_data = []\n",
    "    for data in tqdm(train_loader):\n",
    "        model.train()\n",
    "        esm_rep, seq, contact, pssm, seq_embed = data.x.to(device), data.seq.T.unsqueeze(0).to(device), data.edge_index.to(device), data.pssm.T.unsqueeze(0).to(device), data.seq_embed.to(device)\n",
    "        esm_rep = esm_rep.float()\n",
    "        label = data.label.float().to(device)\n",
    "        batch_idx = data.batch.to(device)\n",
    "        model_pred = model(seq = seq, edge_index = contact, esm_token = esm_rep, esm_representation=seq_embed, batch = batch_idx, label_relationship = go_graph).to(torch.float32)\n",
    "        save_data.append((model_pred, model_pred.shape))\n",
    "        \n",
    "        class_count = torch.sum(label.to(torch.float32), dim=0)\n",
    "        class_weights = class_count.sum() / class_count\n",
    "        class_weights = torch.where(torch.isinf(class_weights), torch.zeros_like(class_weights), class_weights)\n",
    "        loss = loss_function(model_pred, label)\n",
    "        loss = (loss * class_weights).mean()\n",
    "        \n",
    "        train_loss.append(loss.clone().detach().cpu().numpy())\n",
    "        optim.zero_grad()  \n",
    "        loss.backward()   \n",
    "        optim.step()    \n",
    "    return train_loss"
   ]
  },
  {
   "cell_type": "code",
   "execution_count": 9,
   "metadata": {},
   "outputs": [],
   "source": [
    "def valid(es, current_epoch, valid_loader, model, min_val_loss, loss_function):\n",
    "    model.eval()\n",
    "    y_pred_all = []\n",
    "    y_true_all = []\n",
    "    with torch.no_grad():\n",
    "        for data in tqdm(valid_loader):\n",
    "            esm_rep, seq, contact, pssm, seq_embed = data.x.to(device), data.seq.T.unsqueeze(0).to(device), data.edge_index.to(device), data.pssm.T.unsqueeze(0).to(device), data.seq_embed.to(device)\n",
    "            esm_rep = esm_rep.float()\n",
    "            label = data.label.float()\n",
    "            batch_idx = data.batch.to(device)\n",
    "            model_pred = model(seq = seq, edge_index = contact, esm_token = esm_rep, esm_representation=seq_embed, batch = batch_idx, label_relationship = go_graph).to(torch.float32).detach()\n",
    "            y_pred_all.append(model_pred)\n",
    "            y_true_all.append(label)\n",
    "        y_pred_all = torch.cat(y_pred_all, dim=0).cpu()\n",
    "        y_true_all = torch.cat(y_true_all, dim=0)\n",
    "        eval_loss = loss_function(y_pred_all.reshape(-1), y_true_all.reshape(-1)).mean()\n",
    "\n",
    "    result = metric.count_evaluation_TALE(y_pred_all, y_true_all)\n",
    "\n",
    "    checkpoint = {\n",
    "            'epoch': current_epoch,\n",
    "            'valid_loss_min': eval_loss,\n",
    "            'state_dict': model.state_dict(),\n",
    "            'optimizer': optim.state_dict(),\n",
    "        }\n",
    "    utils.save_ckp(checkpoint, False, ckp_current, model_dir + \"best_model.pt\")\n",
    "    if eval_loss <= min_val_loss:\n",
    "        utils.save_ckp(checkpoint, True, ckp_current, model_dir + \"best_model.pt\")\n",
    "        min_val_loss = eval_loss\n",
    "        es = 0\n",
    "    else:\n",
    "        es += 1\n",
    "    return es, min_val_loss, eval_loss, result"
   ]
  },
  {
   "cell_type": "code",
   "execution_count": null,
   "metadata": {},
   "outputs": [],
   "source": [
    "es = 0\n",
    "for epoch in range(current_epoch, epoches):\n",
    "    Train_loss = train(train_loader, model, loss_function)\n",
    "    es, min_val_loss, eval_loss, result = valid(es, epoch, valid_loader, model, min_val_loss, loss_function)\n",
    "    print(\"Epoch:%s TALE_mf_Fmax:%.3f TALE_mf_AUPRC:%.3f TALE_bp_Fmax:%.3f TALE_bp_AUPRC:%.3f TALE_cc_Fmax:%.3f TALE_cc_AUPRC:%.3f\" %(epoch, result[0],result[1],result[2], result[3], result[4], result[5]))\n",
    "    if es > 4:\n",
    "        print(\"Counter {} of 5\".format(es))\n",
    "        break"
   ]
  },
  {
   "cell_type": "markdown",
   "metadata": {},
   "source": []
  }
 ],
 "metadata": {
  "kernelspec": {
   "display_name": "base",
   "language": "python",
   "name": "python3"
  },
  "language_info": {
   "codemirror_mode": {
    "name": "ipython",
    "version": 3
   },
   "file_extension": ".py",
   "mimetype": "text/x-python",
   "name": "python",
   "nbconvert_exporter": "python",
   "pygments_lexer": "ipython3",
   "version": "3.10.9"
  }
 },
 "nbformat": 4,
 "nbformat_minor": 2
}
