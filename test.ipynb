{
 "cells": [
  {
   "cell_type": "code",
   "execution_count": null,
   "metadata": {},
   "outputs": [],
   "source": [
    "from torch_geometric.data import DataLoader\n",
    "import torch.nn.functional as F\n",
    "import torch, data_loader\n",
    "from model import protein_feature_extractor, predictor, go_feature_extractor, att\n",
    "from torch.autograd import Variable\n",
    "from sklearn import metrics\n",
    "import argparse, utils, os, evaluation_matrix, pickle, warnings, metric\n",
    "import numpy as np\n",
    "device = torch.device(\"cuda:1\" if torch.cuda.is_available() else \"cpu\")\n",
    "print(device)\n",
    "DATA_PATH = '/home/nas2/biod/zq/ZQ/Protein Function Prediction/graph_go/dataset/'\n",
    "MODEL_PATH = \"/home/nas2/biod/zq/ZQ/Protein Function Prediction/BIBM_journal/model_checkpoint/A_model_copy5/\"\n",
    "from tqdm import tqdm"
   ]
  },
  {
   "cell_type": "code",
   "execution_count": 2,
   "metadata": {},
   "outputs": [],
   "source": [
    "batch_size = 64\n",
    "epoches = 50\n",
    "learning_rate = 0.0001"
   ]
  },
  {
   "cell_type": "code",
   "execution_count": 3,
   "metadata": {},
   "outputs": [
    {
     "name": "stderr",
     "output_type": "stream",
     "text": [
      "/home/zhangqiang/anaconda3/lib/python3.10/site-packages/torch_geometric/deprecation.py:22: UserWarning: 'data.DataLoader' is deprecated, use 'loader.DataLoader' instead\n",
      "  warnings.warn(out)\n"
     ]
    }
   ],
   "source": [
    "X_test = data_loader.Protein_Gnn_data(root = DATA_PATH + 'data/seq_features/', chain_list = DATA_PATH + \"data/data_splits/test.pdb.txt\")\n",
    "test_loader = DataLoader(X_test, batch_size=batch_size, shuffle=True)\n",
    "go_graph = utils.pickle_load(DATA_PATH+\"PDB-cdhit/go_graph.pickle\").to(device)"
   ]
  },
  {
   "cell_type": "code",
   "execution_count": 4,
   "metadata": {},
   "outputs": [],
   "source": [
    "ont = [\"all\",\"bp\",\"mf\", \"cc\"]\n",
    "Protein_feature_extraction = protein_feature_extractor.Protein_feature_extraction()\n",
    "Label_feature_extraction = go_feature_extractor.Label_feature_extraction(ont[0])\n",
    "Protein_Label_att = att.Protein_Label_att()\n",
    "GnnPF_Model = predictor.information_exchange_2()\n",
    "model = predictor.TotalModel(Protein_feature_extraction, Label_feature_extraction, Protein_Label_att, GnnPF_Model)\n",
    "model = model.to(device)"
   ]
  },
  {
   "cell_type": "code",
   "execution_count": 8,
   "metadata": {},
   "outputs": [],
   "source": [
    "def predict(loader, model):\n",
    "    model.eval()\n",
    "    y_pred_all = []\n",
    "    y_true_all = []\n",
    "    with torch.no_grad():\n",
    "        for data in tqdm(loader):\n",
    "            esm_rep, seq, contact, pssm, seq_embed = data.x.to(device), data.seq.T.unsqueeze(0).to(device), data.edge_index.to(device), data.pssm.T.unsqueeze(0).to(device), data.seq_embed.to(device)\n",
    "            esm_rep = esm_rep.float()\n",
    "            label = data.label.float()\n",
    "            batch_idx = data.batch.to(device)\n",
    "            model_pred = model(seq = seq, edge_index = contact, esm_token = esm_rep, esm_representation=seq_embed, batch = batch_idx, label_relationship = go_graph).to(torch.float32).detach()\n",
    "            y_pred_all.append(model_pred)\n",
    "            y_true_all.append(label)\n",
    "        y_pred_all = torch.cat(y_pred_all, dim=0).cpu()\n",
    "        y_true_all = torch.cat(y_true_all, dim=0)\n",
    "        test_loss = loss_function(y_pred_all, y_true_all)\n",
    "    return test_loss, y_pred_all, y_true_all"
   ]
  },
  {
   "cell_type": "code",
   "execution_count": null,
   "metadata": {},
   "outputs": [],
   "source": [
    "best_model, optim, current_epoch, min_val_loss = utils.load_ckp(ckp_best, model, optim, device = device)\n",
    "test_loss, y_pred_all, y_true_all = predict(test_loader, best_model)"
   ]
  },
  {
   "cell_type": "code",
   "execution_count": null,
   "metadata": {},
   "outputs": [],
   "source": [
    "# evaluation and result save\n",
    "result3 = metric.count_evaluation_TALE(y_pred_all, y_true_all)\n",
    "print(\"mf_Fmax:%.3f mf_AUPRC:%.3f bp_Fmax:%.3f bp_AUPRC:%.3f cc_Fmax:%.3f cc_AUPRC:%.3f\" %(result3[0],result3[1],result3[2], result3[3], result3[4], result3[5]))"
   ]
  }
 ],
 "metadata": {
  "kernelspec": {
   "display_name": "base",
   "language": "python",
   "name": "python3"
  },
  "language_info": {
   "codemirror_mode": {
    "name": "ipython",
    "version": 3
   },
   "file_extension": ".py",
   "mimetype": "text/x-python",
   "name": "python",
   "nbconvert_exporter": "python",
   "pygments_lexer": "ipython3",
   "version": "3.10.9"
  }
 },
 "nbformat": 4,
 "nbformat_minor": 2
}
